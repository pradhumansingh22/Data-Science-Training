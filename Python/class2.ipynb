{
 "cells": [
  {
   "cell_type": "markdown",
   "metadata": {},
   "source": [
    "DICTIONARY\n"
   ]
  },
  {
   "cell_type": "code",
   "execution_count": 20,
   "metadata": {},
   "outputs": [],
   "source": [
    "hostel = {\n",
    "    \"Navdeep\":\"H-18\",\n",
    "    \"Satyam\":\"NBH-307\",\n",
    "    \"Prashant\":\"NBH-307\",\n",
    "    \"Dipanshu\":\"NBH_305\",\n",
    "    \"Pravesh\":\"H-204\"\n",
    "}\n",
    "\n",
    "hostel[\"Navdeep\"] = \"TEJ-123\"\n"
   ]
  },
  {
   "cell_type": "code",
   "execution_count": 21,
   "metadata": {},
   "outputs": [
    {
     "name": "stdout",
     "output_type": "stream",
     "text": [
      "dict_items([('Navdeep', 'TEJ-123'), ('Satyam', 'NBH-307'), ('Prashant', 'NBH-307'), ('Dipanshu', 'NBH_305'), ('Pravesh', 'H-204')])\n"
     ]
    },
    {
     "data": {
      "text/plain": [
       "{'Navdeep': 'TEJ-123',\n",
       " 'Satyam': 'NBH-307',\n",
       " 'Prashant': 'NBH-307',\n",
       " 'Dipanshu': 'NBH_305',\n",
       " 'Pravesh': 'H-204',\n",
       " 'Harsh': 'NBH-305'}"
      ]
     },
     "execution_count": 21,
     "metadata": {},
     "output_type": "execute_result"
    }
   ],
   "source": [
    "print(hostel.items())\n",
    "hostel[\"Harsh\"] = \"NBH-305\"\n",
    "hostel"
   ]
  },
  {
   "cell_type": "code",
   "execution_count": 18,
   "metadata": {},
   "outputs": [
    {
     "name": "stdout",
     "output_type": "stream",
     "text": [
      "<class 'int'>\n",
      "<class 'tuple'>\n"
     ]
    }
   ],
   "source": [
    "a,b,c,d = (1,2,3,4)\n",
    "print(type(a))\n",
    "z = 1,2,3,4\n",
    "print(type(z))"
   ]
  },
  {
   "cell_type": "markdown",
   "metadata": {},
   "source": [
    "Arithmatic Operators\n"
   ]
  },
  {
   "cell_type": "code",
   "execution_count": 22,
   "metadata": {},
   "outputs": [],
   "source": [
    "x = 2\n",
    "y = 3"
   ]
  },
  {
   "cell_type": "code",
   "execution_count": null,
   "metadata": {},
   "outputs": [
    {
     "name": "stdout",
     "output_type": "stream",
     "text": [
      "5\n",
      "-1\n",
      "6\n",
      "0.6666666666666666\n",
      "2\n",
      "8\n",
      "0\n"
     ]
    }
   ],
   "source": [
    "print(x+y)\n",
    "print(x-y)\n",
    "print(x*y)\n",
    "print(x/y)\n",
    "print(x%y)\n",
    "print(x**y)\n",
    "print(x//y)"
   ]
  },
  {
   "cell_type": "markdown",
   "metadata": {},
   "source": [
    "Assignment operators"
   ]
  },
  {
   "cell_type": "code",
   "execution_count": 32,
   "metadata": {},
   "outputs": [],
   "source": [
    "x = 5\n",
    "x += 3\n",
    "x -= 3\n",
    "x *= 3\n",
    "\n"
   ]
  },
  {
   "cell_type": "markdown",
   "metadata": {},
   "source": [
    "Bitwise Operators"
   ]
  },
  {
   "cell_type": "code",
   "execution_count": 34,
   "metadata": {},
   "outputs": [
    {
     "name": "stdout",
     "output_type": "stream",
     "text": [
      "True\n",
      "False\n"
     ]
    }
   ],
   "source": [
    "lst = [1,3,4,5]\n",
    "print(3 in lst)\n",
    "print(2 in lst)"
   ]
  },
  {
   "cell_type": "code",
   "execution_count": 35,
   "metadata": {},
   "outputs": [
    {
     "name": "stdout",
     "output_type": "stream",
     "text": [
      "Not eligible\n"
     ]
    }
   ],
   "source": [
    "age = 14\n",
    "if age >= 18:\n",
    "    print(\"Eligible to vote\")\n",
    "elif age < 12:\n",
    "    print(\"bachha hai\")\n",
    "else:\n",
    "    print(\"Not eligible\")"
   ]
  },
  {
   "cell_type": "code",
   "execution_count": 37,
   "metadata": {},
   "outputs": [
    {
     "name": "stdout",
     "output_type": "stream",
     "text": [
      "odd\n"
     ]
    }
   ],
   "source": [
    "num = 3\n",
    "if num % 2 == 0:\n",
    "    print(\"even\")\n",
    "else:\n",
    "    print(\"odd\")"
   ]
  },
  {
   "cell_type": "code",
   "execution_count": 40,
   "metadata": {},
   "outputs": [
    {
     "name": "stdout",
     "output_type": "stream",
     "text": [
      "B\n"
     ]
    }
   ],
   "source": [
    "marks = 80\n",
    "\n",
    "if marks > 95:\n",
    "    print(\"A+\")\n",
    "elif marks > 90:\n",
    "    print(\"A\")\n",
    "elif marks >= 80:\n",
    "    print(\"B\")\n",
    "else:\n",
    "    print(\"C\")"
   ]
  },
  {
   "cell_type": "markdown",
   "metadata": {},
   "source": [
    "Loops"
   ]
  },
  {
   "cell_type": "code",
   "execution_count": 41,
   "metadata": {},
   "outputs": [
    {
     "name": "stdout",
     "output_type": "stream",
     "text": [
      "Sir Sir Navdeep is abusing meeee\n",
      "Sir Sir Navdeep is abusing meeee\n",
      "Sir Sir Navdeep is abusing meeee\n",
      "Sir Sir Navdeep is abusing meeee\n",
      "Sir Sir Navdeep is abusing meeee\n",
      "Sir Sir Navdeep is abusing meeee\n",
      "Sir Sir Navdeep is abusing meeee\n",
      "Sir Sir Navdeep is abusing meeee\n",
      "Sir Sir Navdeep is abusing meeee\n",
      "Sir Sir Navdeep is abusing meeee\n"
     ]
    }
   ],
   "source": [
    "for i in range (10):\n",
    "    print(\"Sir Sir Navdeep is abusing meeee\")"
   ]
  },
  {
   "cell_type": "code",
   "execution_count": 42,
   "metadata": {},
   "outputs": [
    {
     "name": "stdout",
     "output_type": "stream",
     "text": [
      "1\n",
      "2\n",
      "3\n",
      "4\n",
      "5\n",
      "5\n",
      "6\n",
      "7\n"
     ]
    }
   ],
   "source": [
    "ls = [1,2,3,4,5,5,6,7]\n",
    "for i in ls:\n",
    "    print(i)"
   ]
  },
  {
   "cell_type": "code",
   "execution_count": 51,
   "metadata": {},
   "outputs": [
    {
     "name": "stdout",
     "output_type": "stream",
     "text": [
      "Navdeep -> TEJ-123\n",
      "Satyam -> NBH-307\n",
      "Prashant -> NBH-307\n"
     ]
    }
   ],
   "source": [
    "for i in hostel:\n",
    "    if i == \"Dipanshu\":break\n",
    "    print(i,\"->\", hostel[i])"
   ]
  },
  {
   "cell_type": "code",
   "execution_count": 55,
   "metadata": {},
   "outputs": [
    {
     "name": "stdout",
     "output_type": "stream",
     "text": [
      "1 2 3 4 5 6 "
     ]
    }
   ],
   "source": [
    "count = 1\n",
    "while count <=6:\n",
    "    print(count,end=\" \")\n",
    "    count+=1"
   ]
  },
  {
   "cell_type": "code",
   "execution_count": null,
   "metadata": {},
   "outputs": [],
   "source": []
  }
 ],
 "metadata": {
  "kernelspec": {
   "display_name": "base",
   "language": "python",
   "name": "python3"
  },
  "language_info": {
   "codemirror_mode": {
    "name": "ipython",
    "version": 3
   },
   "file_extension": ".py",
   "mimetype": "text/x-python",
   "name": "python",
   "nbconvert_exporter": "python",
   "pygments_lexer": "ipython3",
   "version": "3.12.7"
  }
 },
 "nbformat": 4,
 "nbformat_minor": 2
}
