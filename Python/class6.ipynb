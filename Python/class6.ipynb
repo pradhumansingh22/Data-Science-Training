{
 "cells": [
  {
   "cell_type": "markdown",
   "metadata": {},
   "source": [
    "Array vs List\n"
   ]
  },
  {
   "cell_type": "code",
   "execution_count": 1,
   "metadata": {},
   "outputs": [],
   "source": [
    "import numpy as np"
   ]
  },
  {
   "cell_type": "code",
   "execution_count": 43,
   "metadata": {},
   "outputs": [],
   "source": [
    "GOD_ARRAY = np.array([1,2,3,4,5,6,7,8,9,10])"
   ]
  },
  {
   "cell_type": "code",
   "execution_count": 4,
   "metadata": {},
   "outputs": [
    {
     "name": "stdout",
     "output_type": "stream",
     "text": [
      "<class 'list'>\n",
      "<class 'numpy.ndarray'>\n"
     ]
    }
   ],
   "source": [
    "nums = [1,2,3,4,5, \"Tumse mile to dekho shahar mein khile lagi hai vaadiyan\"]\n",
    "print(type(nums))\n",
    "numss = np.array(nums)\n",
    "print(type(numss))"
   ]
  },
  {
   "cell_type": "code",
   "execution_count": 7,
   "metadata": {},
   "outputs": [
    {
     "name": "stdout",
     "output_type": "stream",
     "text": [
      "[0 1 2 3 4 5 6 7 8 9]\n"
     ]
    }
   ],
   "source": [
    "nums = np.arange(10)\n",
    "print(nums)"
   ]
  },
  {
   "cell_type": "code",
   "execution_count": null,
   "metadata": {},
   "outputs": [
    {
     "data": {
      "text/plain": [
       "array([[0., 0., 0.],\n",
       "       [0., 0., 0.]])"
      ]
     },
     "execution_count": 9,
     "metadata": {},
     "output_type": "execute_result"
    }
   ],
   "source": [
    "nums = np.zeros((2,3))\n",
    "nums"
   ]
  },
  {
   "cell_type": "code",
   "execution_count": 12,
   "metadata": {},
   "outputs": [
    {
     "data": {
      "text/plain": [
       "array([[1., 1., 1., 1., 1., 1., 1., 1., 1., 1.],\n",
       "       [1., 1., 1., 1., 1., 1., 1., 1., 1., 1.],\n",
       "       [1., 1., 1., 1., 1., 1., 1., 1., 1., 1.],\n",
       "       [1., 1., 1., 1., 1., 1., 1., 1., 1., 1.],\n",
       "       [1., 1., 1., 1., 1., 1., 1., 1., 1., 1.],\n",
       "       [1., 1., 1., 1., 1., 1., 1., 1., 1., 1.]])"
      ]
     },
     "execution_count": 12,
     "metadata": {},
     "output_type": "execute_result"
    }
   ],
   "source": [
    "nums = np.ones((6,10))\n",
    "nums"
   ]
  },
  {
   "cell_type": "code",
   "execution_count": 14,
   "metadata": {},
   "outputs": [
    {
     "data": {
      "text/plain": [
       "array([ 1.  ,  3.25,  5.5 ,  7.75, 10.  ])"
      ]
     },
     "execution_count": 14,
     "metadata": {},
     "output_type": "execute_result"
    }
   ],
   "source": [
    "nums = np.linspace(1,10,5)\n",
    "nums"
   ]
  },
  {
   "cell_type": "code",
   "execution_count": null,
   "metadata": {},
   "outputs": [
    {
     "data": {
      "text/plain": [
       "array([[1, 2, 3],\n",
       "       [4, 5, 6]])"
      ]
     },
     "execution_count": 17,
     "metadata": {},
     "output_type": "execute_result"
    }
   ],
   "source": [
    "nums = np.array([1,2,3,4,5,6])\n",
    "nums = nums.reshape(2,3)\n",
    "nums"
   ]
  },
  {
   "cell_type": "code",
   "execution_count": 23,
   "metadata": {},
   "outputs": [
    {
     "name": "stdout",
     "output_type": "stream",
     "text": [
      "[[2 6 3 2 4]\n",
      " [7 2 8 3 6]]\n",
      "int32\n",
      "10\n",
      "(2, 5)\n",
      "2\n"
     ]
    }
   ],
   "source": [
    "nums = np.random.randint(1,10,10)\n",
    "nums = nums.reshape(2,5)\n",
    "print(nums)\n",
    "print(nums.dtype)\n",
    "print(nums.size)\n",
    "print(nums.shape)\n",
    "print(nums.ndim)"
   ]
  },
  {
   "cell_type": "code",
   "execution_count": 33,
   "metadata": {},
   "outputs": [
    {
     "name": "stdout",
     "output_type": "stream",
     "text": [
      "[1 2 5 6 6 6 8 3 1 7 4 3]\n"
     ]
    }
   ],
   "source": [
    "nums = np.random.randint(1,10,(3,4))\n",
    "nums = nums.flatten()\n",
    "print(nums)\n"
   ]
  },
  {
   "cell_type": "code",
   "execution_count": 37,
   "metadata": {},
   "outputs": [
    {
     "name": "stdout",
     "output_type": "stream",
     "text": [
      "(4, 3)\n",
      "(3, 4)\n"
     ]
    }
   ],
   "source": [
    "nums  = [[1,2,3],[4,5,6],[7,8,9],[10,11,12]]\n",
    "nums = np.array(nums)\n",
    "print(nums.shape)\n",
    "nums = nums.T\n",
    "print(nums.shape)"
   ]
  },
  {
   "cell_type": "code",
   "execution_count": null,
   "metadata": {},
   "outputs": [
    {
     "name": "stdout",
     "output_type": "stream",
     "text": [
      "[3 4 5 6 7 8]\n",
      "[3 5 7]\n"
     ]
    }
   ],
   "source": [
    "print(GOD_ARRAY[2:8])\n",
    "print(GOD_ARRAY[2:8:2])"
   ]
  },
  {
   "cell_type": "code",
   "execution_count": 51,
   "metadata": {},
   "outputs": [
    {
     "data": {
      "text/plain": [
       "array([[2, 3, 4, 5],\n",
       "       [5, 6, 5, 6],\n",
       "       [8, 9, 7, 8]])"
      ]
     },
     "execution_count": 51,
     "metadata": {},
     "output_type": "execute_result"
    }
   ],
   "source": [
    "nums  = [[1,2,3,4,5],[4,5,6,5,6],[7,8,9,7,8],[10,11,12,9,10], [4,5,6,5,6]]\n",
    "nums = np.array(nums)\n",
    "nums[0:3, 1:5]"
   ]
  },
  {
   "cell_type": "code",
   "execution_count": 67,
   "metadata": {},
   "outputs": [
    {
     "name": "stdout",
     "output_type": "stream",
     "text": [
      "[[ 4 32 36 16 34]\n",
      " [18 30 32 24 22]\n",
      " [32 36 12  2 26]\n",
      " [34  4 26  2 16]]\n",
      "-------------------\n",
      "[[ 4 18 20 10 19]\n",
      " [11 17 18 14 13]\n",
      " [18 20  8  3 15]\n",
      " [19  4 15  3 10]]\n"
     ]
    }
   ],
   "source": [
    "nums = np.random.randint(1, 20, (4,5))\n",
    "print(nums * 2,end=\"\\n-------------------\\n\")\n",
    "print(nums + 2)"
   ]
  },
  {
   "cell_type": "code",
   "execution_count": 74,
   "metadata": {},
   "outputs": [
    {
     "name": "stdout",
     "output_type": "stream",
     "text": [
      "[0 2 4 6 8]\n",
      "[ 0  1  4  9 16]\n"
     ]
    }
   ],
   "source": [
    "nums1 = np.arange(5)\n",
    "nums2 = np.arange(5)\n",
    "print(nums1 + nums2)\n",
    "print(nums1 * nums2)"
   ]
  },
  {
   "cell_type": "code",
   "execution_count": null,
   "metadata": {},
   "outputs": [
    {
     "name": "stdout",
     "output_type": "stream",
     "text": [
      "Addition For List: [1, 2, 3, 4, 5, 6, 7, 8, 9, 10]\n",
      "Addition for Array: [ 7  9 11 13 15]\n",
      "Mulitplication for Array: [ 6 14 24 36 50]\n"
     ]
    }
   ],
   "source": [
    "x = [1,2,3,4,5]\n",
    "y = [6,7,8,9,10]\n",
    "print(\"Addition For List:\",x+y)\n",
    "#print(\"Mutliplication For List:\",x*y) ---> Throws an error.\n",
    "\n",
    "x = np.array(x)\n",
    "y = np.array(y)\n",
    "print(\"Addition for Array:\",x+y)\n",
    "print(\"Mulitplication for Array:\",x*y)\n"
   ]
  }
 ],
 "metadata": {
  "kernelspec": {
   "display_name": "base",
   "language": "python",
   "name": "python3"
  },
  "language_info": {
   "codemirror_mode": {
    "name": "ipython",
    "version": 3
   },
   "file_extension": ".py",
   "mimetype": "text/x-python",
   "name": "python",
   "nbconvert_exporter": "python",
   "pygments_lexer": "ipython3",
   "version": "3.12.7"
  }
 },
 "nbformat": 4,
 "nbformat_minor": 2
}
