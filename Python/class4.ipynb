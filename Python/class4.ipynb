{
 "cells": [
  {
   "cell_type": "code",
   "execution_count": null,
   "metadata": {},
   "outputs": [
    {
     "name": "stdout",
     "output_type": "stream",
     "text": [
      "Rajvi Ummm umm\n",
      "1234\n",
      "Pradhuman\n"
     ]
    }
   ],
   "source": [
    "class Main:\n",
    "    def __init__(self):\n",
    "        self.name = \"Pradhuman\"    #public\n",
    "        self._account = \"12345678\" #private\n",
    "        self.__password = \"1234\"   #protected\n",
    "\n",
    "    def getInfo(self):\n",
    "        print(self.name)\n",
    "        print(self._account)\n",
    "        print(self.__password)\n",
    "        \n",
    "class Students(Main):\n",
    "    print(\"Rajvi Ummm umm\")\n",
    "    def __init__(self):\n",
    "        super().__init__()\n",
    "\n",
    "student = Students()\n",
    "print(student._Main__password)\n",
    "print(student.name)\n"
   ]
  }
 ],
 "metadata": {
  "kernelspec": {
   "display_name": "base",
   "language": "python",
   "name": "python3"
  },
  "language_info": {
   "codemirror_mode": {
    "name": "ipython",
    "version": 3
   },
   "file_extension": ".py",
   "mimetype": "text/x-python",
   "name": "python",
   "nbconvert_exporter": "python",
   "pygments_lexer": "ipython3",
   "version": "3.12.7"
  }
 },
 "nbformat": 4,
 "nbformat_minor": 2
}
