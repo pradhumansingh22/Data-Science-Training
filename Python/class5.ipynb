{
 "cells": [
  {
   "cell_type": "markdown",
   "metadata": {},
   "source": [
    "NUMPY"
   ]
  },
  {
   "cell_type": "code",
   "execution_count": 85,
   "metadata": {},
   "outputs": [],
   "source": [
    "import numpy as np"
   ]
  },
  {
   "cell_type": "markdown",
   "metadata": {},
   "source": [
    "NumPy Array"
   ]
  },
  {
   "cell_type": "code",
   "execution_count": 25,
   "metadata": {},
   "outputs": [
    {
     "data": {
      "text/plain": [
       "numpy.ndarray"
      ]
     },
     "execution_count": 25,
     "metadata": {},
     "output_type": "execute_result"
    }
   ],
   "source": [
    "nums = list(range(1,11))\n",
    "arr = np.array(nums)\n",
    "type(arr)"
   ]
  },
  {
   "cell_type": "code",
   "execution_count": 34,
   "metadata": {},
   "outputs": [
    {
     "name": "stdout",
     "output_type": "stream",
     "text": [
      "[1, 2, 3, 4, 5]\n"
     ]
    },
    {
     "data": {
      "text/plain": [
       "array([1, 2, 3, 4, 5])"
      ]
     },
     "execution_count": 34,
     "metadata": {},
     "output_type": "execute_result"
    }
   ],
   "source": [
    "arr = np.array([1,2,3,4,5])\n",
    "nums = [1,2,3,4,5]\n",
    "print(nums)\n",
    "arr"
   ]
  },
  {
   "cell_type": "code",
   "execution_count": 81,
   "metadata": {},
   "outputs": [
    {
     "data": {
      "text/plain": [
       "3"
      ]
     },
     "execution_count": 81,
     "metadata": {},
     "output_type": "execute_result"
    }
   ],
   "source": [
    "arr = np.arange(10) # arange() function is used to create an array upto a certain range.\n",
    "arr\n",
    "\n",
    "# Creaing a 2D array\n",
    "nums = np.array([[[1,2,3],[4,5,6],[7,8,9]]]) # Three square brackets ([[[]]])\n",
    "nums.ndim # To find the dimension of the array.\n"
   ]
  },
  {
   "cell_type": "code",
   "execution_count": null,
   "metadata": {},
   "outputs": [
    {
     "data": {
      "text/plain": [
       "array([[[1, 2, 3],\n",
       "        [2, 3, 4]],\n",
       "\n",
       "       [[5, 8, 2],\n",
       "        [9, 1, 7]]])"
      ]
     },
     "execution_count": 52,
     "metadata": {},
     "output_type": "execute_result"
    }
   ],
   "source": [
    "# Creating a 3D array using 2D arrays.\n",
    "arr = np.array([[[1,2,3],[2,3,4]], [[5,8,2],[9,1,7]]])\n",
    "arr.ndim\n",
    "arr"
   ]
  },
  {
   "cell_type": "code",
   "execution_count": null,
   "metadata": {},
   "outputs": [
    {
     "data": {
      "text/plain": [
       "array([[0., 0., 0., 0.],\n",
       "       [0., 0., 0., 0.],\n",
       "       [0., 0., 0., 0.]])"
      ]
     },
     "execution_count": 53,
     "metadata": {},
     "output_type": "execute_result"
    }
   ],
   "source": [
    "# Creating a 2D arrays with zeros.\n",
    "arr = np.zeros([3,4])\n",
    "arr"
   ]
  },
  {
   "cell_type": "code",
   "execution_count": null,
   "metadata": {},
   "outputs": [
    {
     "data": {
      "text/plain": [
       "array([[1., 1., 1., 1.],\n",
       "       [1., 1., 1., 1.],\n",
       "       [1., 1., 1., 1.]])"
      ]
     },
     "execution_count": 55,
     "metadata": {},
     "output_type": "execute_result"
    }
   ],
   "source": [
    "# Creating a 2D arrays with ones.\n",
    "arr = np.ones([3,4])\n",
    "arr"
   ]
  },
  {
   "cell_type": "code",
   "execution_count": 66,
   "metadata": {},
   "outputs": [
    {
     "name": "stdout",
     "output_type": "stream",
     "text": [
      "[ 1.    3.25  5.5   7.75 10.  ]\n",
      "[[ 1.   2.8]\n",
      " [ 4.6  6.4]\n",
      " [ 8.2 10. ]]\n",
      "[[[ 1.          2.28571429]\n",
      "  [ 3.57142857  4.85714286]]\n",
      "\n",
      " [[ 6.14285714  7.42857143]\n",
      "  [ 8.71428571 10.        ]]]\n"
     ]
    }
   ],
   "source": [
    "# Creating an array upto a certain range with elements with equal difference bw them.\n",
    "arr = np.linspace(1,10,5) # Array of 5 numbers from 1 to 10 with equal difference bw them.\n",
    "print(arr)\n",
    "nums = np.linspace(1,10,6).reshape(3,2) # Converting it into a 2D array.\n",
    "print(nums)\n",
    "nums1 = np.linspace(1,10,8).reshape(2,2,2) # Converting it into a 3D array.\n",
    "print(nums1)"
   ]
  },
  {
   "cell_type": "code",
   "execution_count": 76,
   "metadata": {},
   "outputs": [
    {
     "data": {
      "text/plain": [
       "array([[[ 0,  1,  2],\n",
       "        [ 3,  4,  5]],\n",
       "\n",
       "       [[ 6,  7,  8],\n",
       "        [ 9, 10, 11]],\n",
       "\n",
       "       [[12, 13, 14],\n",
       "        [15, 16, 17]],\n",
       "\n",
       "       [[18, 19, 20],\n",
       "        [21, 22, 23]],\n",
       "\n",
       "       [[24, 25, 26],\n",
       "        [27, 28, 29]]])"
      ]
     },
     "execution_count": 76,
     "metadata": {},
     "output_type": "execute_result"
    }
   ],
   "source": [
    "# Creating a an array upto a range and reshaping it.\n",
    "arr = np.arange(30).reshape(5,2,3)\n",
    "arr"
   ]
  },
  {
   "cell_type": "code",
   "execution_count": null,
   "metadata": {},
   "outputs": [
    {
     "data": {
      "text/plain": [
       "(1, 1, 3)"
      ]
     },
     "execution_count": 72,
     "metadata": {},
     "output_type": "execute_result"
    }
   ],
   "source": [
    "arr = np.array([[[1,2,3]]]) #This shii is cwazyyy.\n",
    "arr.ndim\n",
    "arr.shape"
   ]
  },
  {
   "cell_type": "code",
   "execution_count": 86,
   "metadata": {},
   "outputs": [
    {
     "name": "stdout",
     "output_type": "stream",
     "text": [
      "[3 3 2 3 3 3 1 1 4 4]\n",
      "[[5 3 6 3]\n",
      " [3 8 4 2]\n",
      " [4 2 6 7]]\n",
      "[[[6 3 2]\n",
      "  [8 5 2]\n",
      "  [7 1 7]\n",
      "  [9 2 7]]\n",
      "\n",
      " [[5 5 1]\n",
      "  [8 2 3]\n",
      "  [6 5 6]\n",
      "  [8 7 4]]\n",
      "\n",
      " [[2 9 6]\n",
      "  [7 2 4]\n",
      "  [8 4 8]\n",
      "  [2 4 4]]]\n"
     ]
    }
   ],
   "source": [
    "arr = np.random.randint(1,5,10) # Creating an array of size 10 random numbers  from 1 to 5.\n",
    "print(arr)\n",
    "nums = np.random.randint(1,10,(3,4)) # Creating a 2D array.\n",
    "print(nums) \n",
    "nums1 = np.random.randint(1,10,(3,4,3)) # Creating a 3D array.\n",
    "print(nums1) "
   ]
  }
 ],
 "metadata": {
  "kernelspec": {
   "display_name": "base",
   "language": "python",
   "name": "python3"
  },
  "language_info": {
   "codemirror_mode": {
    "name": "ipython",
    "version": 3
   },
   "file_extension": ".py",
   "mimetype": "text/x-python",
   "name": "python",
   "nbconvert_exporter": "python",
   "pygments_lexer": "ipython3",
   "version": "3.12.7"
  }
 },
 "nbformat": 4,
 "nbformat_minor": 2
}
