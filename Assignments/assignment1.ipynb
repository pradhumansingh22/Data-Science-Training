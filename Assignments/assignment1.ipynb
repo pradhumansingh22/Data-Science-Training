{
 "cells": [
  {
   "cell_type": "markdown",
   "metadata": {},
   "source": [
    "1. How do lists and tuples differ in terms of mutability and\n",
    "performance? When would you choose one over the other?"
   ]
  },
  {
   "cell_type": "markdown",
   "metadata": {},
   "source": [
    "Ans. The main difference between a list and a tuple is that a list is mutable and a tuple is immutable means a list can  be modified but a tuple cannot be modified.\n",
    "A list conumes more memory as compared to a tuple.\n",
    "\n",
    "If we want to update the collection over time, we should use a list.\n",
    "If we want constant set of values then we can use a tuple. It is also faster and provides integrity."
   ]
  },
  {
   "cell_type": "markdown",
   "metadata": {},
   "source": [
    "2. Explain how Python handles type conversion between different data\n",
    "types, such as between integers and floats or between strings and\n",
    "lists."
   ]
  },
  {
   "cell_type": "code",
   "execution_count": 1,
   "metadata": {},
   "outputs": [
    {
     "name": "stdout",
     "output_type": "stream",
     "text": [
      "1\n"
     ]
    }
   ],
   "source": [
    "# Python performs type conversion in two ways - \n",
    "# Implicit Type Conversion – Done automatically by Python.\n",
    "# Explicit Type Conversion – Requires manual conversion using built-in functions.\n",
    "\n",
    "x = 4  #int (Implicit conversion) \n",
    "x = 4.5  #float (Implicit conversion) \n",
    "\n",
    "x = int(input(\"Enter a number\")) # string -> int (Explicit conversion)\n",
    "print(x)"
   ]
  },
  {
   "cell_type": "markdown",
   "metadata": {},
   "source": [
    "3. Take a number and use the += operator to increase its value by 10."
   ]
  },
  {
   "cell_type": "code",
   "execution_count": 2,
   "metadata": {},
   "outputs": [
    {
     "name": "stdout",
     "output_type": "stream",
     "text": [
      "15\n"
     ]
    }
   ],
   "source": [
    "num = 5\n",
    "num += 10\n",
    "print(num)"
   ]
  },
  {
   "cell_type": "markdown",
   "metadata": {},
   "source": [
    "4. Write a Python program to check if a given year is a leap year or not."
   ]
  },
  {
   "cell_type": "code",
   "execution_count": null,
   "metadata": {},
   "outputs": [
    {
     "name": "stdout",
     "output_type": "stream",
     "text": [
      "2024 is a leap year!\n"
     ]
    }
   ],
   "source": [
    "year = int(input(\"Enter a year\"))\n",
    "\n",
    "if (year % 4 == 0 and year % 100 != 0) or (year % 400 == 0):\n",
    "    print(year, \"is a leap year!\")\n",
    "else:\n",
    "    print(year, \"is a not leap year!\")\n"
   ]
  },
  {
   "cell_type": "markdown",
   "metadata": {},
   "source": [
    "5. Write a program that asks the user to enter their marks and displays\n",
    "their grade:\n",
    "• 90-100: A\n",
    "• 80-89: B\n",
    "• 70-79: C\n",
    "• 60-69: D\n",
    "• Below 60: F\n"
   ]
  },
  {
   "cell_type": "code",
   "execution_count": 8,
   "metadata": {},
   "outputs": [
    {
     "name": "stdout",
     "output_type": "stream",
     "text": [
      "Your grade is B\n"
     ]
    }
   ],
   "source": [
    "marks = int(input(\"Enter your marks\"))\n",
    "\n",
    "if marks >= 90:\n",
    "    print(\"Your grade is A\")\n",
    "elif marks >= 80:\n",
    "    print(\"Your grade is B\")\n",
    "elif marks >= 70:\n",
    "    print(\"Your grade is C\")\n",
    "elif marks >= 60:\n",
    "    print(\"Your grade is D\")\n",
    "else:\n",
    "    print(\"Your grade is F\")"
   ]
  }
 ],
 "metadata": {
  "kernelspec": {
   "display_name": "base",
   "language": "python",
   "name": "python3"
  },
  "language_info": {
   "codemirror_mode": {
    "name": "ipython",
    "version": 3
   },
   "file_extension": ".py",
   "mimetype": "text/x-python",
   "name": "python",
   "nbconvert_exporter": "python",
   "pygments_lexer": "ipython3",
   "version": "3.12.7"
  }
 },
 "nbformat": 4,
 "nbformat_minor": 2
}
