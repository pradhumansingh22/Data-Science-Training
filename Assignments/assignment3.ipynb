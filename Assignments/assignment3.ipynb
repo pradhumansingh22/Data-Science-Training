{
 "cells": [
  {
   "cell_type": "markdown",
   "metadata": {},
   "source": [
    "1. Write a lambda function to merge two lists into a dictionary where\n",
    "one list represents keys and the other represents values."
   ]
  },
  {
   "cell_type": "code",
   "execution_count": 13,
   "metadata": {},
   "outputs": [
    {
     "name": "stdout",
     "output_type": "stream",
     "text": [
      "{1: 'Apple', 2: 'Orange', 3: 'Banana', 4: 'Pear', 5: 'Mango'}\n"
     ]
    }
   ],
   "source": [
    "nums1 =  [1,2,3,4,5]\n",
    "nums2 = [\"Apple\", \"Orange\", \"Banana\", \"Pear\", \"Mango\"]\n",
    "\n",
    "\n",
    "merge_lists = lambda nums1, nums2: dict(zip(nums1, nums2))\n",
    "print(merge_lists(nums1, nums2))\n",
    "d = merge_lists(nums1,nums2)\n"
   ]
  },
  {
   "cell_type": "markdown",
   "metadata": {},
   "source": [
    "2. Create a class Product with instance variables name and price. Also,\n",
    "add a class variable discount_rate and a method to calculate the\n",
    "discounted price."
   ]
  },
  {
   "cell_type": "code",
   "execution_count": null,
   "metadata": {},
   "outputs": [
    {
     "data": {
      "text/plain": [
       "'Shoes'"
      ]
     },
     "execution_count": 5,
     "metadata": {},
     "output_type": "execute_result"
    }
   ],
   "source": [
    "class Product:\n",
    "    def __init__(self, name, price):\n",
    "        self.name = name\n",
    "        self.price = price\n",
    "    \n",
    "    discount_rate = 20\n",
    "\n",
    "    def calculate_discount (self):\n",
    "        return self.price - (self.discount_rate/100) * self.price\n",
    "    \n",
    "product1 = Product(\"Shoes\", 100)\n",
    "product1.calculate_discount()\n"
   ]
  },
  {
   "cell_type": "markdown",
   "metadata": {},
   "source": [
    "3. Create a base class Shape with a method area(). Derive two\n",
    "subclasses Circle and Rectangle, each implementing their own area()\n",
    "method. (INHERITANCE)"
   ]
  },
  {
   "cell_type": "code",
   "execution_count": 6,
   "metadata": {},
   "outputs": [
    {
     "name": "stdout",
     "output_type": "stream",
     "text": [
      "Circle Area: 78.5\n",
      "Rectangle Area: 24\n"
     ]
    }
   ],
   "source": [
    "class Shape:\n",
    "    def area(self):\n",
    "        pass\n",
    "\n",
    "class Circle(Shape):\n",
    "    def __init__(self, radius):\n",
    "        self.radius = radius\n",
    "\n",
    "    def area(self):\n",
    "        return 3.14 * self.radius ** 2\n",
    "\n",
    "class Rectangle(Shape):\n",
    "    def __init__(self, width, height):\n",
    "        self.width = width\n",
    "        self.height = height\n",
    "\n",
    "    def area(self):\n",
    "        return self.width * self.height\n",
    "\n",
    "circle = Circle(5)\n",
    "rectangle = Rectangle(4, 6)\n",
    "\n",
    "print(f\"Circle Area: {circle.area()}\")\n",
    "print(f\"Rectangle Area: {rectangle.area()}\")\n"
   ]
  },
  {
   "cell_type": "markdown",
   "metadata": {},
   "source": [
    "4. Create two base classes Person and Employee, and derive a class\n",
    "Manager from both. (MULTIPLE INHERITANCE)"
   ]
  },
  {
   "cell_type": "code",
   "execution_count": 11,
   "metadata": {},
   "outputs": [
    {
     "name": "stdout",
     "output_type": "stream",
     "text": [
      "Manager: Amit, ID: 123, Dept: It\n"
     ]
    }
   ],
   "source": [
    "class Person:\n",
    "    def __init__(self, name):\n",
    "        self.name = name\n",
    "\n",
    "class Employee:\n",
    "    def __init__(self, emp_id):\n",
    "        self.emp_id = emp_id\n",
    "\n",
    "class Manager(Person, Employee):\n",
    "    def __init__(self, name, emp_id, department):\n",
    "        Person.__init__(self, name)\n",
    "        Employee.__init__(self, emp_id)\n",
    "        self.department = department\n",
    "\n",
    "    def display_info(self):\n",
    "        return f\"Manager: {self.name}, ID: {self.emp_id}, Dept: {self.department}\"\n",
    "\n",
    "mgr = Manager(\"Amit\", \"123\", \"It\")\n",
    "print(mgr.display_info())\n"
   ]
  },
  {
   "cell_type": "markdown",
   "metadata": {},
   "source": [
    "5. Implement a function play_sound() that accepts different animal\n",
    "objects (Dog, Cat, Cow) and calls their make_sound() method\n",
    "dynamically. (POLYMORPHISM)\n"
   ]
  },
  {
   "cell_type": "code",
   "execution_count": 12,
   "metadata": {},
   "outputs": [
    {
     "name": "stdout",
     "output_type": "stream",
     "text": [
      "Bhau!\n",
      "Meow!\n",
      "Moo!\n"
     ]
    }
   ],
   "source": [
    "class Animal:\n",
    "    def make_sound(self):\n",
    "        pass \n",
    "\n",
    "class Dog(Animal):\n",
    "    def make_sound(self):\n",
    "        return \"Bhau!\"\n",
    "\n",
    "class Cat(Animal):\n",
    "    def make_sound(self):\n",
    "        return \"Meow!\"\n",
    "\n",
    "class Cow(Animal):\n",
    "    def make_sound(self):\n",
    "        return \"Moo!\"\n",
    "\n",
    "def play_sound(animal):\n",
    "    print(animal.make_sound())\n",
    "\n",
    "dog = Dog()\n",
    "cat = Cat()\n",
    "cow = Cow()\n",
    "\n",
    "play_sound(dog)  \n",
    "play_sound(cat) \n",
    "play_sound(cow)  \n"
   ]
  },
  {
   "cell_type": "markdown",
   "metadata": {},
   "source": [
    "6. Design a Car Rental System using Object-Oriented Programming\n",
    "(OOP) in Python. The system should include a Vehicle class and\n",
    "derived classes Car and Bike. Implement constructors and use\n",
    "inheritance to manage common and specific attributes.\n"
   ]
  },
  {
   "cell_type": "code",
   "execution_count": 15,
   "metadata": {},
   "outputs": [
    {
     "name": "stdout",
     "output_type": "stream",
     "text": [
      "Rented Toyota Innova.\n",
      "Vehicle returned.\n"
     ]
    }
   ],
   "source": [
    "class Vehicle:\n",
    "    def __init__(self, vehicle_id, brand, model):\n",
    "        self.vehicle_id = vehicle_id\n",
    "        self.brand = brand\n",
    "        self.model = model\n",
    "        self.is_rented = False\n",
    "\n",
    "    def rent(self):\n",
    "        if not self.is_rented:\n",
    "            self.is_rented = True\n",
    "            return True\n",
    "        return False\n",
    "\n",
    "    def return_vehicle(self):\n",
    "        self.is_rented = False\n",
    "\n",
    "class Car(Vehicle):\n",
    "    def __init__(self, vehicle_id, brand, model, doors):\n",
    "        super().__init__(vehicle_id, brand, model)\n",
    "        self.doors = doors\n",
    "\n",
    "class Bike(Vehicle):\n",
    "    def __init__(self, vehicle_id, brand, model, bike_type):\n",
    "        super().__init__(vehicle_id, brand, model)\n",
    "        self.bike_type = bike_type\n",
    "\n",
    "class RentalSystem:\n",
    "    def __init__(self):\n",
    "        self.vehicles = {}\n",
    "\n",
    "    def add_vehicle(self, vehicle):\n",
    "        self.vehicles[vehicle.vehicle_id] = vehicle\n",
    "\n",
    "    def rent_vehicle(self, vehicle_id):\n",
    "        if vehicle_id in self.vehicles and self.vehicles[vehicle_id].rent():\n",
    "            print(f\"Rented {self.vehicles[vehicle_id].brand} {self.vehicles[vehicle_id].model}.\")\n",
    "        else:\n",
    "            print(\"Not available.\")\n",
    "\n",
    "    def return_vehicle(self, vehicle_id):\n",
    "        if vehicle_id in self.vehicles:\n",
    "            self.vehicles[vehicle_id].return_vehicle()\n",
    "            print(\"Vehicle returned.\")\n",
    "\n",
    "rental = RentalSystem()\n",
    "rental.add_vehicle(Car(1, \"Toyota\", \"Innova\", 4))\n",
    "rental.add_vehicle(Bike(2, \"Yamaha\", \"MT-07\", \"Sport\"))\n",
    "rental.rent_vehicle(1)\n",
    "rental.return_vehicle(1)"
   ]
  },
  {
   "cell_type": "code",
   "execution_count": null,
   "metadata": {},
   "outputs": [],
   "source": []
  }
 ],
 "metadata": {
  "kernelspec": {
   "display_name": "base",
   "language": "python",
   "name": "python3"
  },
  "language_info": {
   "codemirror_mode": {
    "name": "ipython",
    "version": 3
   },
   "file_extension": ".py",
   "mimetype": "text/x-python",
   "name": "python",
   "nbconvert_exporter": "python",
   "pygments_lexer": "ipython3",
   "version": "3.12.7"
  }
 },
 "nbformat": 4,
 "nbformat_minor": 2
}
