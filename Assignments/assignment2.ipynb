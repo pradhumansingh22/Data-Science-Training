{
 "cells": [
  {
   "cell_type": "code",
   "execution_count": null,
   "metadata": {},
   "outputs": [],
   "source": [
    "# 1. Write a function pascals_triangle(rows) that prints the first rows of\n",
    "# Pascal’s Triangle using nested for loops.\n",
    "# pascals_triangle(5)\n",
    "# Output:\n",
    "#     1\n",
    "#    1 1\n",
    "#   1 2 1\n",
    "#  1 3 3 1\n",
    "# 1 4 6 4 1"
   ]
  },
  {
   "cell_type": "code",
   "execution_count": 12,
   "metadata": {},
   "outputs": [
    {
     "name": "stdout",
     "output_type": "stream",
     "text": [
      "     1 \n",
      "    1 1 \n",
      "   1 2 1 \n",
      "  1 3 3 1 \n",
      " 1 4 6 4 1 \n"
     ]
    }
   ],
   "source": [
    "from math import factorial\n",
    "\n",
    "def pascal_triangle(n):\n",
    "    for i in range(n):\n",
    "        print(\" \"*(n-i),end=\"\") \n",
    "        for j in range(i + 1):\n",
    "            print(factorial(i) // (factorial(j) * factorial(i - j)), end=\" \")\n",
    "        print()\n",
    "\n",
    "pascal_triangle(5)"
   ]
  },
  {
   "cell_type": "markdown",
   "metadata": {},
   "source": [
    "2. Explain how the `continue` statement works in a loop. What are some\n",
    "scenarios where using `continue` is more beneficial than restructuring\n",
    "the loop?\n",
    "- Coding Challenge: Write a Python program that iterates through a list\n",
    "of numbers and prints only those numbers that are divisible by 3, using\n",
    "the `continue` statement.\n"
   ]
  },
  {
   "cell_type": "code",
   "execution_count": 14,
   "metadata": {},
   "outputs": [
    {
     "name": "stdout",
     "output_type": "stream",
     "text": [
      "3\n",
      "6\n",
      "9\n",
      "12\n",
      "15\n",
      "21\n"
     ]
    }
   ],
   "source": [
    "#The continue statement is used when we need to skip the actual task or function during an iteration as per some condition.\n",
    "\n",
    "ls = [1,3,6,4,8,9,12,15,21,22]\n",
    "for i in ls:\n",
    "    if i % 3 != 0 :\n",
    "        continue\n",
    "    print(i)\n"
   ]
  },
  {
   "cell_type": "markdown",
   "metadata": {},
   "source": [
    "3. Use list comprehension to generate all Pythagorean triplets (a, b, c)\n",
    "where a² + b² = c² and a, b, c ≤ 50."
   ]
  },
  {
   "cell_type": "code",
   "execution_count": null,
   "metadata": {},
   "outputs": [
    {
     "name": "stdout",
     "output_type": "stream",
     "text": [
      "[(3, 4, 5), (5, 12, 13), (6, 8, 10), (7, 24, 25), (8, 15, 17), (9, 12, 15), (9, 40, 41), (10, 24, 26), (12, 16, 20), (12, 35, 37), (14, 48, 50), (15, 20, 25), (15, 36, 39), (16, 30, 34), (18, 24, 30), (20, 21, 29), (21, 28, 35), (24, 32, 40), (27, 36, 45), (30, 40, 50)]\n"
     ]
    }
   ],
   "source": [
    "ls = [(a, b, c) for a in range(1, 51) for b in range(a, 51) for c in range(b, 51) if a**2 + b**2 == c**2]\n",
    "print(ls)"
   ]
  },
  {
   "cell_type": "markdown",
   "metadata": {},
   "source": [
    "4. Write a function max_consecutive_sum(nums, k) that finds the\n",
    "maximum sum of k consecutive elements in a list."
   ]
  },
  {
   "cell_type": "code",
   "execution_count": 25,
   "metadata": {},
   "outputs": [
    {
     "name": "stdout",
     "output_type": "stream",
     "text": [
      "18\n"
     ]
    }
   ],
   "source": [
    "def max_consecutive_sum(nums,k):\n",
    "    maxSum = 0\n",
    "    i = 0\n",
    "    j = k-1\n",
    "    \n",
    "    while(j<len(nums)):\n",
    "        sum = 0\n",
    "        for x in range (i, j+1):\n",
    "            sum += nums[x]\n",
    "        i+=1   \n",
    "        j+=1\n",
    "        maxSum = max(maxSum,sum)\n",
    "    \n",
    "    return maxSum\n",
    "\n",
    "nums = [1,2,3,4,5,6,7]\n",
    "print(max_consecutive_sum(nums,3))"
   ]
  },
  {
   "cell_type": "markdown",
   "metadata": {},
   "source": [
    "5. Write a function that takes a list as an argument and modifies it by\n",
    "appending a new item. Demonstrate how changes to the list inside the\n",
    "function affect the list outside the function."
   ]
  },
  {
   "cell_type": "code",
   "execution_count": 27,
   "metadata": {},
   "outputs": [
    {
     "name": "stdout",
     "output_type": "stream",
     "text": [
      "Before function call: [1, 2, 3]\n",
      "After function call: [1, 2, 3, 4]\n"
     ]
    }
   ],
   "source": [
    "def modify_list(lst, item):\n",
    "    lst.append(item)\n",
    "\n",
    "my_list = [1, 2, 3]\n",
    "print(\"Before function call:\", my_list)\n",
    "\n",
    "modify_list(my_list, 4)  \n",
    "\n",
    "print(\"After function call:\", my_list)  \n"
   ]
  },
  {
   "cell_type": "markdown",
   "metadata": {},
   "source": [
    "6. Take a number as input and print the Fibonacci sequence up to that\n",
    "many terms using User-defined functions. "
   ]
  },
  {
   "cell_type": "code",
   "execution_count": 34,
   "metadata": {},
   "outputs": [
    {
     "name": "stdout",
     "output_type": "stream",
     "text": [
      "0 1 1 2 3 5 8 13 21 34 "
     ]
    }
   ],
   "source": [
    "def fibonacci(n):\n",
    "    a = 0\n",
    "    b = 1\n",
    "    c = 0\n",
    "    print(a, b, end= \" \")\n",
    "    for _ in range (n-2):\n",
    "        c = a + b\n",
    "        print(c, end=\" \")\n",
    "        a = b\n",
    "        b = c\n",
    "\n",
    "n = int(input(\"Enter a number\"))\n",
    "fibonacci(n)"
   ]
  }
 ],
 "metadata": {
  "kernelspec": {
   "display_name": "base",
   "language": "python",
   "name": "python3"
  },
  "language_info": {
   "codemirror_mode": {
    "name": "ipython",
    "version": 3
   },
   "file_extension": ".py",
   "mimetype": "text/x-python",
   "name": "python",
   "nbconvert_exporter": "python",
   "pygments_lexer": "ipython3",
   "version": "3.12.7"
  }
 },
 "nbformat": 4,
 "nbformat_minor": 2
}
