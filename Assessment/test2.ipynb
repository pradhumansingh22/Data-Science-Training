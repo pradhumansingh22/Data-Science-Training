{
 "cells": [
  {
   "cell_type": "markdown",
   "id": "d0ebe61a",
   "metadata": {},
   "source": [
    "### Question 18\n"
   ]
  },
  {
   "cell_type": "code",
   "execution_count": null,
   "id": "ea1b058b",
   "metadata": {},
   "outputs": [],
   "source": [
    "class Vehicle:\n",
    "    def __init__(self, brand, color):\n",
    "        self.brand = brand\n",
    "        self.color = color\n",
    "\n",
    "class Car(Vehicle):\n",
    "    def __init__(self, brand, color, model):\n",
    "        super().__init__(brand, color)\n",
    "        self.model = model\n"
   ]
  },
  {
   "cell_type": "markdown",
   "id": "b5b29e83",
   "metadata": {},
   "source": [
    "### Question 19"
   ]
  },
  {
   "cell_type": "code",
   "execution_count": 1,
   "id": "38576d11",
   "metadata": {},
   "outputs": [],
   "source": [
    "class Student:\n",
    "    def __init__(self, marks):\n",
    "        self.__marks = marks  # private attribute\n",
    "\n",
    "    def get_marks(self):\n",
    "        return self.__marks\n",
    "\n",
    "    def set_marks(self, marks):\n",
    "        if 0 <= marks <= 100:\n",
    "            self.__marks = marks\n",
    "        else:\n",
    "            print(\"Invalid marks\")\n"
   ]
  },
  {
   "cell_type": "markdown",
   "id": "1f5fae7c",
   "metadata": {},
   "source": [
    "### Question 21"
   ]
  },
  {
   "cell_type": "code",
   "execution_count": 4,
   "id": "98d69809",
   "metadata": {},
   "outputs": [
    {
     "name": "stdout",
     "output_type": "stream",
     "text": [
      "Father: Praduman Singh\n",
      "Mother: Dipanshu Gupta\n",
      "Child: Prashant Sharma\n"
     ]
    }
   ],
   "source": [
    "class Father:\n",
    "    def __init__(self, fatherName):\n",
    "        self.fatherName = fatherName\n",
    "\n",
    "class Mother:\n",
    "    def __init__(self, motherName):\n",
    "        self.motherName = motherName\n",
    "\n",
    "class Child(Father, Mother):\n",
    "    def __init__(self, fatherName, motherName, childName):\n",
    "        Father.__init__(self, fatherName)\n",
    "        Mother.__init__(self, motherName)\n",
    "        self.childName = childName\n",
    "\n",
    "    def showFamily(self):\n",
    "        print(\"Father:\", self.fatherName)\n",
    "        print(\"Mother:\", self.motherName)\n",
    "        print(\"Child:\", self.childName)\n",
    "\n",
    "ch = Child(\"Praduman Singh\", \"Dipanshu Gupta\", \"Prashant Sharma\")\n",
    "ch.showFamily()"
   ]
  },
  {
   "cell_type": "code",
   "execution_count": null,
   "id": "fc7589ed",
   "metadata": {},
   "outputs": [],
   "source": []
  }
 ],
 "metadata": {
  "kernelspec": {
   "display_name": "Python 3",
   "language": "python",
   "name": "python3"
  },
  "language_info": {
   "codemirror_mode": {
    "name": "ipython",
    "version": 3
   },
   "file_extension": ".py",
   "mimetype": "text/x-python",
   "name": "python",
   "nbconvert_exporter": "python",
   "pygments_lexer": "ipython3",
   "version": "3.12.4"
  }
 },
 "nbformat": 4,
 "nbformat_minor": 5
}
